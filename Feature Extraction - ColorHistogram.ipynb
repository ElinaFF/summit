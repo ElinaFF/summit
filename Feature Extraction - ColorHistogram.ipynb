{
 "cells": [
  {
   "cell_type": "markdown",
   "metadata": {},
   "source": [
    "# Code to Extract ColorHistograms for Database"
   ]
  },
  {
   "cell_type": "markdown",
   "metadata": {},
   "source": [
    "#### Author: Nikolas Hülsmann\n",
    "#### Date: 2015-11-22"
   ]
  },
  {
   "cell_type": "markdown",
   "metadata": {},
   "source": [
    "## Functions for Extract Data\n",
    "\n",
    "### Function to iterate through given directory and return images paths and classLabels"
   ]
  },
  {
   "cell_type": "code",
   "execution_count": 1,
   "metadata": {
    "collapsed": false
   },
   "outputs": [],
   "source": [
    "def imgCrawl(path): #path to 'highest' folder\n",
    "    rootdir = path\n",
    "    df = pd.DataFrame()\n",
    "        \n",
    "    for subdir, dirs, files in os.walk(rootdir): # loop through subdirectories\n",
    "        for file in files:\n",
    "            pathOfFile = os.path.join(subdir, file) #path of file\n",
    "            head, classLabel = os.path.split(os.path.split(pathOfFile)[0]) # get directoryname of file as classLabel\n",
    "            df = df.append({'classLabel': classLabel, 'pathOfFile': pathOfFile}, ignore_index=True) \n",
    "            \n",
    "    return df"
   ]
  },
  {
   "cell_type": "markdown",
   "metadata": {},
   "source": [
    "### Function to determine Class-Labels with Integer representation"
   ]
  },
  {
   "cell_type": "code",
   "execution_count": 3,
   "metadata": {
    "collapsed": true
   },
   "outputs": [],
   "source": [
    "# function to determine Class-labels and return Series\n",
    "def getClassLabels(path):\n",
    "    data = os.listdir(path) # listdir returns all subdirectories\n",
    "    index = range(0,len(data))\n",
    "    \n",
    "    return pd.Series(data,index)"
   ]
  },
  {
   "cell_type": "markdown",
   "metadata": {},
   "source": [
    "### Function to calculate the ColorHistogram for given Images "
   ]
  },
  {
   "cell_type": "code",
   "execution_count": 4,
   "metadata": {
    "collapsed": false
   },
   "outputs": [],
   "source": [
    "#### Calculate ColorHistograms for all images\n",
    "\n",
    "# path to higehst folder\n",
    "# dfImages: Dataframe with paths to all images - use function imgCrawl\n",
    "# sClassLabel: Series with ClassLabels - use function getClassLabels\n",
    "def calcColorHisto(path_, dfImages_, sClassLabels_):\n",
    "    # Initialize function\n",
    "    df = pd.DataFrame()\n",
    "    path =path_\n",
    "    npImages = dfImages_.values\n",
    "    sClassLabels = sClassLabels_\n",
    "\n",
    "    ## algo\n",
    "    for images in npImages:\n",
    "        image = cv2.imread(images[1])\n",
    "        chans = cv2.split(image) # Split into color chanels rgb\n",
    "        colors = (\"b\", \"g\", \"r\")\n",
    "        features = []\n",
    "\n",
    "        # loop over the image channels\n",
    "        for (chan, color) in zip(chans, colors):\n",
    "            # Calculate Color Histogram - 16 bins cf. paper\n",
    "            hist = cv2.calcHist([chan], [0], None, [16], [0, 256])\n",
    "\n",
    "            # to get raw values\n",
    "            hist = hist[:,0]\n",
    "\n",
    "            # Normalize with MinMax from 0 to 1 -> feature scaling\n",
    "            cv2.normalize(hist, hist, 0, 1, cv2.NORM_MINMAX)\n",
    "            features.extend(hist)\n",
    "\n",
    "        # assign integer label for dataframe\n",
    "        classLabel = sClassLabels[sClassLabels == images[0]].index[0]\n",
    "\n",
    "        # append features to df\n",
    "        df = df.append({'classLabel': classLabel, 'ColHisto': features}, ignore_index=True) \n",
    "    \n",
    "    return df"
   ]
  },
  {
   "cell_type": "markdown",
   "metadata": {},
   "source": [
    "### Function to export calculated Data to csv "
   ]
  },
  {
   "cell_type": "code",
   "execution_count": 5,
   "metadata": {
    "collapsed": false
   },
   "outputs": [],
   "source": [
    "#### Export ColorHistogram to csv\n",
    "def exportToCSV(pandasSorDF, filename):\n",
    "    #filename = datetime.datetime.now().strftime(\"%Y_%m_%d\") + \"-ColorHistogram\"\n",
    "    path = os.getcwdu() + \"\\\\\" + filename\n",
    "    \n",
    "    if os.path.isfile(path + \".csv\"):\n",
    "        for i in range(1,20):\n",
    "            testFileName = filename  + \"-\" + str(i) + \".csv\"\n",
    "            if os.path.isfile(os.getcwdu() + \"\\\\\" +  testFileName)!=True:\n",
    "                pandasSorDF.to_csv(testFileName)\n",
    "                break\n",
    "\n",
    "    else:\n",
    "        pandasSorDF.to_csv(filename + \".csv\")\n"
   ]
  },
  {
   "cell_type": "markdown",
   "metadata": {},
   "source": [
    "## Main Programm\n"
   ]
  },
  {
   "cell_type": "code",
   "execution_count": 6,
   "metadata": {
    "collapsed": true
   },
   "outputs": [],
   "source": [
    "# Imports\n",
    "import os           # for iteration throug directories\n",
    "import pandas as pd # for Series and DataFrames\n",
    "import cv2          # for OpenCV \n",
    "import datetime     # for TimeStamp in CSVFile"
   ]
  },
  {
   "cell_type": "code",
   "execution_count": 7,
   "metadata": {
    "collapsed": false
   },
   "outputs": [],
   "source": [
    "#### Calculate Color Histogram\n",
    "path ='D:\\Caltech'\n",
    "dfImages = imgCrawl(path)\n",
    "sClassLabels = getClassLabels(path)\n",
    "dfColorHistogram = calcColorHisto(path, dfImages, sClassLabels)\n",
    "\n",
    "fileNameColorHis = datetime.datetime.now().strftime(\"%Y_%m_%d\") + \"-Features\" +\"-ColorHistogram\"\n",
    "exportToCSV(dfColorHistogram, fileNameColorHis)\n",
    "\n",
    "fileNameClassLabels = datetime.datetime.now().strftime(\"%Y_%m_%d\") + \"-ClassLabels\" + \"-Caltech\"\n",
    "exportToCSV(sClassLabels, fileNameClassLabels)\n"
   ]
  }
 ],
 "metadata": {
  "kernelspec": {
   "display_name": "Python 2",
   "language": "python",
   "name": "python2"
  },
  "language_info": {
   "codemirror_mode": {
    "name": "ipython",
    "version": 2
   },
   "file_extension": ".py",
   "mimetype": "text/x-python",
   "name": "python",
   "nbconvert_exporter": "python",
   "pygments_lexer": "ipython2",
   "version": "2.7.10"
  }
 },
 "nbformat": 4,
 "nbformat_minor": 0
}
